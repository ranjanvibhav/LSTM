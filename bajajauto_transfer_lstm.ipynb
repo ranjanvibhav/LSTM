{
 "cells": [
  {
   "cell_type": "code",
   "execution_count": 36,
   "metadata": {},
   "outputs": [],
   "source": [
    "import pandas as pd\n",
    "import numpy as np\n",
    "import matplotlib.pyplot as plt"
   ]
  },
  {
   "cell_type": "code",
   "execution_count": 37,
   "metadata": {},
   "outputs": [],
   "source": [
    "from keras.models import load_model\n",
    "import tensorflow as tf\n",
    "configuration = tf.compat.v1.ConfigProto()\n",
    "configuration.gpu_options.allow_growth = True\n",
    "session = tf.compat.v1.Session(config=configuration)\n",
    "\n",
    "bauto_lstm = load_model('adani_lstm.h5')"
   ]
  },
  {
   "cell_type": "code",
   "execution_count": 38,
   "metadata": {},
   "outputs": [],
   "source": [
    "ap_df = pd.read_csv('archive/bajaj-auto.csv')"
   ]
  },
  {
   "cell_type": "code",
   "execution_count": 39,
   "metadata": {},
   "outputs": [],
   "source": [
    "ap_df = ap_df.drop(['Symbol','Series', 'Turnover','Trades'], axis=1)\n",
    "ap_df['Date'] = pd.to_datetime(ap_df['Date'], format = '%Y-%m-%d')"
   ]
  },
  {
   "cell_type": "code",
   "execution_count": 40,
   "metadata": {},
   "outputs": [],
   "source": [
    "y_test = []\n",
    "for i in range(3060, 3202):\n",
    "    y_test.append(ap_df.loc[i, 'Close'])\n",
    "\n",
    "y_test = np.array(y_test)"
   ]
  },
  {
   "cell_type": "code",
   "execution_count": 41,
   "metadata": {},
   "outputs": [],
   "source": [
    "from sklearn.preprocessing import MinMaxScaler\n",
    "scaler = MinMaxScaler(feature_range = (0,1))\n",
    "columns = ['Prev Close', 'Open', 'High','Low', 'Last','Close', 'VWAP','Volume','Deliverable Volume','%Deliverble']\n",
    "ap_df[columns] = scaler.fit_transform(ap_df[columns])"
   ]
  },
  {
   "cell_type": "code",
   "execution_count": 42,
   "metadata": {},
   "outputs": [
    {
     "data": {
      "text/plain": [
       "(3202, 11)"
      ]
     },
     "execution_count": 42,
     "metadata": {},
     "output_type": "execute_result"
    }
   ],
   "source": [
    "ap_df.shape"
   ]
  },
  {
   "cell_type": "code",
   "execution_count": 43,
   "metadata": {},
   "outputs": [
    {
     "data": {
      "text/plain": [
       "(3202, 10)"
      ]
     },
     "execution_count": 43,
     "metadata": {},
     "output_type": "execute_result"
    }
   ],
   "source": [
    "ap_df[columns].shape"
   ]
  },
  {
   "cell_type": "code",
   "execution_count": 44,
   "metadata": {},
   "outputs": [
    {
     "data": {
      "text/html": [
       "<div>\n",
       "<style scoped>\n",
       "    .dataframe tbody tr th:only-of-type {\n",
       "        vertical-align: middle;\n",
       "    }\n",
       "\n",
       "    .dataframe tbody tr th {\n",
       "        vertical-align: top;\n",
       "    }\n",
       "\n",
       "    .dataframe thead th {\n",
       "        text-align: right;\n",
       "    }\n",
       "</style>\n",
       "<table border=\"1\" class=\"dataframe\">\n",
       "  <thead>\n",
       "    <tr style=\"text-align: right;\">\n",
       "      <th></th>\n",
       "      <th>Date</th>\n",
       "      <th>Prev Close</th>\n",
       "      <th>Open</th>\n",
       "      <th>High</th>\n",
       "      <th>Low</th>\n",
       "      <th>Last</th>\n",
       "      <th>Close</th>\n",
       "      <th>VWAP</th>\n",
       "      <th>Volume</th>\n",
       "      <th>Deliverable Volume</th>\n",
       "      <th>%Deliverble</th>\n",
       "    </tr>\n",
       "  </thead>\n",
       "  <tbody>\n",
       "    <tr>\n",
       "      <td>0</td>\n",
       "      <td>2008-05-26</td>\n",
       "      <td>0.457153</td>\n",
       "      <td>0.159080</td>\n",
       "      <td>0.145757</td>\n",
       "      <td>0.073476</td>\n",
       "      <td>0.076283</td>\n",
       "      <td>0.076952</td>\n",
       "      <td>0.081503</td>\n",
       "      <td>0.465007</td>\n",
       "      <td>0.289329</td>\n",
       "      <td>0.247896</td>\n",
       "    </tr>\n",
       "    <tr>\n",
       "      <td>1</td>\n",
       "      <td>2008-05-27</td>\n",
       "      <td>0.076952</td>\n",
       "      <td>0.090720</td>\n",
       "      <td>0.081875</td>\n",
       "      <td>0.080828</td>\n",
       "      <td>0.075076</td>\n",
       "      <td>0.074005</td>\n",
       "      <td>0.076910</td>\n",
       "      <td>0.204648</td>\n",
       "      <td>0.088630</td>\n",
       "      <td>0.148867</td>\n",
       "    </tr>\n",
       "    <tr>\n",
       "      <td>2</td>\n",
       "      <td>2008-05-28</td>\n",
       "      <td>0.074005</td>\n",
       "      <td>0.074950</td>\n",
       "      <td>0.077657</td>\n",
       "      <td>0.076092</td>\n",
       "      <td>0.077515</td>\n",
       "      <td>0.077816</td>\n",
       "      <td>0.077496</td>\n",
       "      <td>0.193080</td>\n",
       "      <td>0.216053</td>\n",
       "      <td>0.507875</td>\n",
       "    </tr>\n",
       "    <tr>\n",
       "      <td>3</td>\n",
       "      <td>2008-05-29</td>\n",
       "      <td>0.077816</td>\n",
       "      <td>0.089395</td>\n",
       "      <td>0.077041</td>\n",
       "      <td>0.079736</td>\n",
       "      <td>0.076220</td>\n",
       "      <td>0.075606</td>\n",
       "      <td>0.075533</td>\n",
       "      <td>0.077859</td>\n",
       "      <td>0.108028</td>\n",
       "      <td>0.646494</td>\n",
       "    </tr>\n",
       "    <tr>\n",
       "      <td>4</td>\n",
       "      <td>2008-05-30</td>\n",
       "      <td>0.075606</td>\n",
       "      <td>0.085893</td>\n",
       "      <td>0.073982</td>\n",
       "      <td>0.070086</td>\n",
       "      <td>0.070185</td>\n",
       "      <td>0.068555</td>\n",
       "      <td>0.066583</td>\n",
       "      <td>0.147342</td>\n",
       "      <td>0.225162</td>\n",
       "      <td>0.721683</td>\n",
       "    </tr>\n",
       "  </tbody>\n",
       "</table>\n",
       "</div>"
      ],
      "text/plain": [
       "        Date  Prev Close      Open      High       Low      Last     Close  \\\n",
       "0 2008-05-26    0.457153  0.159080  0.145757  0.073476  0.076283  0.076952   \n",
       "1 2008-05-27    0.076952  0.090720  0.081875  0.080828  0.075076  0.074005   \n",
       "2 2008-05-28    0.074005  0.074950  0.077657  0.076092  0.077515  0.077816   \n",
       "3 2008-05-29    0.077816  0.089395  0.077041  0.079736  0.076220  0.075606   \n",
       "4 2008-05-30    0.075606  0.085893  0.073982  0.070086  0.070185  0.068555   \n",
       "\n",
       "       VWAP    Volume  Deliverable Volume  %Deliverble  \n",
       "0  0.081503  0.465007            0.289329     0.247896  \n",
       "1  0.076910  0.204648            0.088630     0.148867  \n",
       "2  0.077496  0.193080            0.216053     0.507875  \n",
       "3  0.075533  0.077859            0.108028     0.646494  \n",
       "4  0.066583  0.147342            0.225162     0.721683  "
      ]
     },
     "execution_count": 44,
     "metadata": {},
     "output_type": "execute_result"
    }
   ],
   "source": [
    "ap_df.head()"
   ]
  },
  {
   "cell_type": "code",
   "execution_count": 45,
   "metadata": {},
   "outputs": [],
   "source": [
    "X_train = []\n",
    "y_train = []\n",
    "X_test = []\n",
    "\n",
    "for i in range(60,3000):\n",
    "    X_train.append(ap_df.loc[i-60:i,columns].to_numpy())\n",
    "    y_train.append(ap_df.loc[i, 'Close'])\n",
    "for i in range(3060, 3202):\n",
    "    X_test.append(ap_df.loc[i-60:i, columns].to_numpy())\n",
    "    \n",
    "X_train = np.array(X_train)\n",
    "y_train = np.array(y_train)\n",
    "X_test = np.array(X_test)"
   ]
  },
  {
   "cell_type": "code",
   "execution_count": 46,
   "metadata": {
    "scrolled": true
   },
   "outputs": [
    {
     "name": "stdout",
     "output_type": "stream",
     "text": [
      "(2940, 61, 10)\n",
      "(2940,)\n",
      "(142, 61, 10)\n",
      "(142,)\n"
     ]
    }
   ],
   "source": [
    "print(X_train.shape)\n",
    "print(y_train.shape)\n",
    "print(X_test.shape)\n",
    "print(y_test.shape)"
   ]
  },
  {
   "cell_type": "code",
   "execution_count": 47,
   "metadata": {},
   "outputs": [
    {
     "name": "stdout",
     "output_type": "stream",
     "text": [
      "Epoch 1/50\n",
      "2940/2940 [==============================] - 14s 5ms/step - loss: 9.9850e-04\n",
      "Epoch 2/50\n",
      "2940/2940 [==============================] - 10s 3ms/step - loss: 9.6861e-04\n",
      "Epoch 3/50\n",
      "2940/2940 [==============================] - 10s 3ms/step - loss: 7.7285e-04\n",
      "Epoch 4/50\n",
      "2940/2940 [==============================] - 9s 3ms/step - loss: 7.1374e-04\n",
      "Epoch 5/50\n",
      "2940/2940 [==============================] - 9s 3ms/step - loss: 7.8054e-04\n",
      "Epoch 6/50\n",
      "2940/2940 [==============================] - 9s 3ms/step - loss: 7.0454e-04\n",
      "Epoch 7/50\n",
      "2940/2940 [==============================] - 9s 3ms/step - loss: 6.9004e-04\n",
      "Epoch 8/50\n",
      "2940/2940 [==============================] - 9s 3ms/step - loss: 6.3412e-04\n",
      "Epoch 9/50\n",
      "2940/2940 [==============================] - 9s 3ms/step - loss: 5.9187e-04\n",
      "Epoch 10/50\n",
      "2940/2940 [==============================] - 9s 3ms/step - loss: 5.9710e-04\n",
      "Epoch 11/50\n",
      "2940/2940 [==============================] - 9s 3ms/step - loss: 5.6414e-04\n",
      "Epoch 12/50\n",
      "2940/2940 [==============================] - 9s 3ms/step - loss: 6.0329e-04\n",
      "Epoch 13/50\n",
      "2940/2940 [==============================] - 9s 3ms/step - loss: 5.2654e-04\n",
      "Epoch 14/50\n",
      "2940/2940 [==============================] - 9s 3ms/step - loss: 5.2252e-04\n",
      "Epoch 15/50\n",
      "2940/2940 [==============================] - 9s 3ms/step - loss: 5.3201e-04\n",
      "Epoch 16/50\n",
      "2940/2940 [==============================] - 9s 3ms/step - loss: 4.5831e-04\n",
      "Epoch 17/50\n",
      "2940/2940 [==============================] - 9s 3ms/step - loss: 4.7317e-04\n",
      "Epoch 18/50\n",
      "2940/2940 [==============================] - 9s 3ms/step - loss: 4.7773e-04\n",
      "Epoch 19/50\n",
      "2940/2940 [==============================] - 9s 3ms/step - loss: 4.2946e-04\n",
      "Epoch 20/50\n",
      "2940/2940 [==============================] - 9s 3ms/step - loss: 4.5835e-04\n",
      "Epoch 21/50\n",
      "2940/2940 [==============================] - 9s 3ms/step - loss: 4.3185e-04A: 0s - loss: 4.3176e-0\n",
      "Epoch 22/50\n",
      "2940/2940 [==============================] - 9s 3ms/step - loss: 4.2911e-04\n",
      "Epoch 23/50\n",
      "2940/2940 [==============================] - 9s 3ms/step - loss: 4.2853e-04\n",
      "Epoch 24/50\n",
      "2940/2940 [==============================] - 9s 3ms/step - loss: 4.1716e-04\n",
      "Epoch 25/50\n",
      "2940/2940 [==============================] - 9s 3ms/step - loss: 4.1647e-04\n",
      "Epoch 26/50\n",
      "2940/2940 [==============================] - 9s 3ms/step - loss: 3.9967e-04\n",
      "Epoch 27/50\n",
      "2940/2940 [==============================] - 9s 3ms/step - loss: 4.0307e-04\n",
      "Epoch 28/50\n",
      "2940/2940 [==============================] - 9s 3ms/step - loss: 3.5532e-04\n",
      "Epoch 29/50\n",
      "2940/2940 [==============================] - 9s 3ms/step - loss: 3.5186e-04\n",
      "Epoch 30/50\n",
      "2940/2940 [==============================] - 9s 3ms/step - loss: 3.5874e-04\n",
      "Epoch 31/50\n",
      "2940/2940 [==============================] - 9s 3ms/step - loss: 3.7081e-04\n",
      "Epoch 32/50\n",
      "2940/2940 [==============================] - 9s 3ms/step - loss: 3.4341e-04\n",
      "Epoch 33/50\n",
      "2940/2940 [==============================] - 9s 3ms/step - loss: 3.5318e-04\n",
      "Epoch 34/50\n",
      "2940/2940 [==============================] - 9s 3ms/step - loss: 3.5837e-04\n",
      "Epoch 35/50\n",
      "2940/2940 [==============================] - 9s 3ms/step - loss: 3.7269e-04\n",
      "Epoch 36/50\n",
      "2940/2940 [==============================] - 9s 3ms/step - loss: 3.2516e-04\n",
      "Epoch 37/50\n",
      "2940/2940 [==============================] - 9s 3ms/step - loss: 3.3412e-04\n",
      "Epoch 38/50\n",
      "2940/2940 [==============================] - 9s 3ms/step - loss: 3.1881e-04\n",
      "Epoch 39/50\n",
      "2940/2940 [==============================] - 9s 3ms/step - loss: 3.3977e-04\n",
      "Epoch 40/50\n",
      "2940/2940 [==============================] - 9s 3ms/step - loss: 3.8225e-04\n",
      "Epoch 41/50\n",
      "2940/2940 [==============================] - 9s 3ms/step - loss: 3.4893e-04\n",
      "Epoch 42/50\n",
      "2940/2940 [==============================] - 9s 3ms/step - loss: 3.2259e-04\n",
      "Epoch 43/50\n",
      "2940/2940 [==============================] - 9s 3ms/step - loss: 3.6107e-04\n",
      "Epoch 44/50\n",
      "2940/2940 [==============================] - 9s 3ms/step - loss: 3.2206e-04\n",
      "Epoch 45/50\n",
      "2940/2940 [==============================] - 9s 3ms/step - loss: 3.8930e-04\n",
      "Epoch 46/50\n",
      "2940/2940 [==============================] - 9s 3ms/step - loss: 2.8088e-04\n",
      "Epoch 47/50\n",
      "2940/2940 [==============================] - 9s 3ms/step - loss: 2.9757e-04\n",
      "Epoch 48/50\n",
      "2940/2940 [==============================] - 9s 3ms/step - loss: 3.1796e-04\n",
      "Epoch 49/50\n",
      "2940/2940 [==============================] - 9s 3ms/step - loss: 3.0801e-04\n",
      "Epoch 50/50\n",
      "2940/2940 [==============================] - 9s 3ms/step - loss: 3.1304e-04A: 1s - loss: \n"
     ]
    },
    {
     "data": {
      "text/plain": [
       "<keras.callbacks.callbacks.History at 0x2c271425348>"
      ]
     },
     "execution_count": 47,
     "metadata": {},
     "output_type": "execute_result"
    }
   ],
   "source": [
    "bauto_lstm.compile(optimizer='adam', loss = 'mean_squared_error')\n",
    "bauto_lstm.fit(X_train, y_train, epochs = 50, batch_size=61)"
   ]
  },
  {
   "cell_type": "code",
   "execution_count": 72,
   "metadata": {
    "scrolled": true
   },
   "outputs": [],
   "source": [
    "pred_price = bauto_lstm.predict(X_test)"
   ]
  },
  {
   "cell_type": "code",
   "execution_count": 73,
   "metadata": {},
   "outputs": [
    {
     "name": "stdout",
     "output_type": "stream",
     "text": [
      "(142, 1)\n",
      "[[0.68321824]\n",
      " [0.68800914]\n",
      " [0.7066513 ]\n",
      " [0.71204287]\n",
      " [0.7098299 ]\n",
      " [0.7045056 ]\n",
      " [0.7051542 ]\n",
      " [0.7088748 ]\n",
      " [0.7091974 ]\n",
      " [0.71045554]\n",
      " [0.6980008 ]\n",
      " [0.6971812 ]\n",
      " [0.7008748 ]\n",
      " [0.69567126]\n",
      " [0.7112201 ]\n",
      " [0.6789124 ]\n",
      " [0.68132305]\n",
      " [0.68054533]\n",
      " [0.67305267]\n",
      " [0.671077  ]\n",
      " [0.6603932 ]\n",
      " [0.67051303]\n",
      " [0.6735741 ]\n",
      " [0.68155086]\n",
      " [0.68774056]\n",
      " [0.6940933 ]\n",
      " [0.69347066]\n",
      " [0.6990804 ]\n",
      " [0.69878495]\n",
      " [0.70241666]\n",
      " [0.70588344]\n",
      " [0.7033256 ]\n",
      " [0.7046263 ]\n",
      " [0.70426637]\n",
      " [0.7091218 ]\n",
      " [0.71133435]\n",
      " [0.7172023 ]\n",
      " [0.7149617 ]\n",
      " [0.7248545 ]\n",
      " [0.7386021 ]\n",
      " [0.74771863]\n",
      " [0.7669039 ]\n",
      " [0.768235  ]\n",
      " [0.7713635 ]\n",
      " [0.77313256]\n",
      " [0.77824116]\n",
      " [0.77348477]\n",
      " [0.7696012 ]\n",
      " [0.7749599 ]\n",
      " [0.7683574 ]\n",
      " [0.7687992 ]\n",
      " [0.7705362 ]\n",
      " [0.76482546]\n",
      " [0.7771714 ]\n",
      " [0.7601999 ]\n",
      " [0.7616805 ]\n",
      " [0.77083135]\n",
      " [0.7828307 ]\n",
      " [0.79177475]\n",
      " [0.7990222 ]\n",
      " [0.8019421 ]\n",
      " [0.803126  ]\n",
      " [0.8101944 ]\n",
      " [0.8168659 ]\n",
      " [0.8124621 ]\n",
      " [0.8122859 ]\n",
      " [0.80822945]\n",
      " [0.81848204]\n",
      " [0.8328682 ]\n",
      " [0.83609426]\n",
      " [0.83833754]\n",
      " [0.8368281 ]\n",
      " [0.8376204 ]\n",
      " [0.8337381 ]\n",
      " [0.8460012 ]\n",
      " [0.8480377 ]\n",
      " [0.86163294]\n",
      " [0.89827657]\n",
      " [0.92016006]\n",
      " [0.9274645 ]\n",
      " [0.9332602 ]\n",
      " [0.92570376]\n",
      " [0.934497  ]\n",
      " [0.9451684 ]\n",
      " [0.9481571 ]\n",
      " [0.95375526]\n",
      " [0.9523821 ]\n",
      " [0.95480025]\n",
      " [0.94726443]\n",
      " [0.94675994]\n",
      " [0.9488957 ]\n",
      " [0.9436134 ]\n",
      " [0.9453049 ]\n",
      " [0.94524837]\n",
      " [0.9463109 ]\n",
      " [0.942623  ]\n",
      " [0.9251553 ]\n",
      " [0.9237157 ]\n",
      " [0.9127928 ]\n",
      " [0.9115372 ]\n",
      " [0.9130454 ]\n",
      " [0.88746274]\n",
      " [0.8926083 ]\n",
      " [0.90373886]\n",
      " [0.89892435]\n",
      " [0.89767194]\n",
      " [0.89465535]\n",
      " [0.8841541 ]\n",
      " [0.8848556 ]\n",
      " [0.8916185 ]\n",
      " [0.8732021 ]\n",
      " [0.8626609 ]\n",
      " [0.85806084]\n",
      " [0.84011984]\n",
      " [0.85320336]\n",
      " [0.8454839 ]\n",
      " [0.8514867 ]\n",
      " [0.8527061 ]\n",
      " [0.84287494]\n",
      " [0.82633126]\n",
      " [0.839491  ]\n",
      " [0.8454249 ]\n",
      " [0.8454093 ]\n",
      " [0.8613256 ]\n",
      " [0.8347351 ]\n",
      " [0.8454119 ]\n",
      " [0.8513579 ]\n",
      " [0.8486004 ]\n",
      " [0.85023195]\n",
      " [0.8244828 ]\n",
      " [0.8399414 ]\n",
      " [0.8359083 ]\n",
      " [0.8420819 ]\n",
      " [0.81531537]\n",
      " [0.83804405]\n",
      " [0.8446109 ]\n",
      " [0.8486376 ]\n",
      " [0.86152637]\n",
      " [0.86941385]\n",
      " [0.8885255 ]\n",
      " [0.8851242 ]\n",
      " [0.88958204]]\n"
     ]
    }
   ],
   "source": [
    "print(pred_price.shape)\n",
    "print(pred_price)"
   ]
  },
  {
   "cell_type": "code",
   "execution_count": 87,
   "metadata": {},
   "outputs": [
    {
     "name": "stdout",
     "output_type": "stream",
     "text": [
      "[[0. 0. 0. ... 0. 0. 0.]\n",
      " [0. 0. 0. ... 0. 0. 0.]\n",
      " [0. 0. 0. ... 0. 0. 0.]\n",
      " ...\n",
      " [0. 0. 0. ... 0. 0. 0.]\n",
      " [0. 0. 0. ... 0. 0. 0.]\n",
      " [0. 0. 0. ... 0. 0. 0.]]\n"
     ]
    }
   ],
   "source": [
    "price_np = np.zeros(shape=(pred_price.shape[0], 10))\n",
    "print(price_np)"
   ]
  },
  {
   "cell_type": "code",
   "execution_count": 88,
   "metadata": {},
   "outputs": [],
   "source": [
    "price_np[:,6] = pred_price[:, 0]"
   ]
  },
  {
   "cell_type": "code",
   "execution_count": 91,
   "metadata": {},
   "outputs": [],
   "source": [
    "pred_price = scaler.inverse_transform(price_np)"
   ]
  },
  {
   "cell_type": "code",
   "execution_count": 97,
   "metadata": {},
   "outputs": [
    {
     "data": {
      "image/png": "[encoded data removed]",
      "text/plain": [
       "<Figure size 1440x1080 with 1 Axes>"
      ]
     },
     "metadata": {
      "needs_background": "light"
     },
     "output_type": "display_data"
    }
   ],
   "source": [
    "plt.figure(figsize=(20,15))\n",
    "plt.ylim([2500,4500])\n",
    "plt.plot(pred_price, color='black', label='Predicted')\n",
    "plt.plot(y_test, color='red', label='real')\n",
    "plt.legend()\n",
    "plt.show()"
   ]
  }
 ],
 "metadata": {
  "kernelspec": {
   "display_name": "Python 3",
   "language": "python",
   "name": "python3"
  },
  "language_info": {
   "codemirror_mode": {
    "name": "ipython",
    "version": 3
   },
   "file_extension": ".py",
   "mimetype": "text/x-python",
   "name": "python",
   "nbconvert_exporter": "python",
   "pygments_lexer": "ipython3",
   "version": "3.7.4"
  }
 },
 "nbformat": 4,
 "nbformat_minor": 2
}
