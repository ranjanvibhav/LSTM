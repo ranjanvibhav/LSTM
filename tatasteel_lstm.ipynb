{
 "cells": [
  {
   "cell_type": "code",
   "execution_count": 1,
   "metadata": {},
   "outputs": [
    {
     "name": "stderr",
     "output_type": "stream",
     "text": [
      "Using TensorFlow backend.\n"
     ]
    }
   ],
   "source": [
    "from nsepy import get_history as gh\n",
    "import datetime as dt\n",
    "from matplotlib import pyplot as plt\n",
    "import numpy as np\n",
    "import pandas as pd\n",
    "from sklearn.preprocessing import MinMaxScaler\n",
    "from keras.models import Sequential\n",
    "from keras.layers import Dense\n",
    "from keras.layers import LSTM\n",
    "from keras.layers import Dropout"
   ]
  },
  {
   "cell_type": "code",
   "execution_count": 2,
   "metadata": {},
   "outputs": [],
   "source": [
    "import tensorflow as tf\n",
    "configuration = tf.compat.v1.ConfigProto()\n",
    "configuration.gpu_options.allow_growth = True\n",
    "session = tf.compat.v1.Session(config=configuration)"
   ]
  },
  {
   "cell_type": "markdown",
   "metadata": {},
   "source": [
    "Tatasteel price from 01.01.2010 to 30.6.2021\n"
   ]
  },
  {
   "cell_type": "code",
   "execution_count": 3,
   "metadata": {},
   "outputs": [],
   "source": [
    "start = dt.datetime(2010,1,1)\n",
    "end = dt.datetime(2021,6,30)\n",
    "tsteel_data = gh(symbol='TATASTEEL', start = start, end = end)"
   ]
  },
  {
   "cell_type": "code",
   "execution_count": 4,
   "metadata": {
    "scrolled": true
   },
   "outputs": [
    {
     "data": {
      "text/html": [
       "<div>\n",
       "<style scoped>\n",
       "    .dataframe tbody tr th:only-of-type {\n",
       "        vertical-align: middle;\n",
       "    }\n",
       "\n",
       "    .dataframe tbody tr th {\n",
       "        vertical-align: top;\n",
       "    }\n",
       "\n",
       "    .dataframe thead th {\n",
       "        text-align: right;\n",
       "    }\n",
       "</style>\n",
       "<table border=\"1\" class=\"dataframe\">\n",
       "  <thead>\n",
       "    <tr style=\"text-align: right;\">\n",
       "      <th></th>\n",
       "      <th>Symbol</th>\n",
       "      <th>Series</th>\n",
       "      <th>Prev Close</th>\n",
       "      <th>Open</th>\n",
       "      <th>High</th>\n",
       "      <th>Low</th>\n",
       "      <th>Last</th>\n",
       "      <th>Close</th>\n",
       "      <th>VWAP</th>\n",
       "      <th>Volume</th>\n",
       "      <th>Turnover</th>\n",
       "      <th>Trades</th>\n",
       "      <th>Deliverable Volume</th>\n",
       "      <th>%Deliverble</th>\n",
       "    </tr>\n",
       "    <tr>\n",
       "      <th>Date</th>\n",
       "      <th></th>\n",
       "      <th></th>\n",
       "      <th></th>\n",
       "      <th></th>\n",
       "      <th></th>\n",
       "      <th></th>\n",
       "      <th></th>\n",
       "      <th></th>\n",
       "      <th></th>\n",
       "      <th></th>\n",
       "      <th></th>\n",
       "      <th></th>\n",
       "      <th></th>\n",
       "      <th></th>\n",
       "    </tr>\n",
       "  </thead>\n",
       "  <tbody>\n",
       "    <tr>\n",
       "      <td>2010-01-04</td>\n",
       "      <td>TATASTEEL</td>\n",
       "      <td>EQ</td>\n",
       "      <td>617.70</td>\n",
       "      <td>622.00</td>\n",
       "      <td>636.5</td>\n",
       "      <td>616.90</td>\n",
       "      <td>636.25</td>\n",
       "      <td>633.75</td>\n",
       "      <td>628.71</td>\n",
       "      <td>5569757</td>\n",
       "      <td>3.501788e+14</td>\n",
       "      <td>NaN</td>\n",
       "      <td>1107657</td>\n",
       "      <td>0.1989</td>\n",
       "    </tr>\n",
       "    <tr>\n",
       "      <td>2010-01-05</td>\n",
       "      <td>TATASTEEL</td>\n",
       "      <td>EQ</td>\n",
       "      <td>633.75</td>\n",
       "      <td>638.55</td>\n",
       "      <td>654.8</td>\n",
       "      <td>638.55</td>\n",
       "      <td>647.60</td>\n",
       "      <td>649.10</td>\n",
       "      <td>648.67</td>\n",
       "      <td>7801935</td>\n",
       "      <td>5.060916e+14</td>\n",
       "      <td>NaN</td>\n",
       "      <td>2824636</td>\n",
       "      <td>0.3620</td>\n",
       "    </tr>\n",
       "    <tr>\n",
       "      <td>2010-01-06</td>\n",
       "      <td>TATASTEEL</td>\n",
       "      <td>EQ</td>\n",
       "      <td>649.10</td>\n",
       "      <td>660.00</td>\n",
       "      <td>660.0</td>\n",
       "      <td>637.00</td>\n",
       "      <td>643.20</td>\n",
       "      <td>642.05</td>\n",
       "      <td>645.32</td>\n",
       "      <td>7350435</td>\n",
       "      <td>4.743349e+14</td>\n",
       "      <td>NaN</td>\n",
       "      <td>2285424</td>\n",
       "      <td>0.3109</td>\n",
       "    </tr>\n",
       "    <tr>\n",
       "      <td>2010-01-07</td>\n",
       "      <td>TATASTEEL</td>\n",
       "      <td>EQ</td>\n",
       "      <td>642.05</td>\n",
       "      <td>644.90</td>\n",
       "      <td>652.8</td>\n",
       "      <td>640.10</td>\n",
       "      <td>647.20</td>\n",
       "      <td>649.80</td>\n",
       "      <td>646.56</td>\n",
       "      <td>7635704</td>\n",
       "      <td>4.936949e+14</td>\n",
       "      <td>NaN</td>\n",
       "      <td>2342356</td>\n",
       "      <td>0.3068</td>\n",
       "    </tr>\n",
       "    <tr>\n",
       "      <td>2010-01-08</td>\n",
       "      <td>TATASTEEL</td>\n",
       "      <td>EQ</td>\n",
       "      <td>649.80</td>\n",
       "      <td>651.00</td>\n",
       "      <td>661.5</td>\n",
       "      <td>640.90</td>\n",
       "      <td>648.60</td>\n",
       "      <td>648.45</td>\n",
       "      <td>650.67</td>\n",
       "      <td>8199586</td>\n",
       "      <td>5.335209e+14</td>\n",
       "      <td>NaN</td>\n",
       "      <td>2545487</td>\n",
       "      <td>0.3104</td>\n",
       "    </tr>\n",
       "  </tbody>\n",
       "</table>\n",
       "</div>"
      ],
      "text/plain": [
       "               Symbol Series  Prev Close    Open   High     Low    Last  \\\n",
       "Date                                                                      \n",
       "2010-01-04  TATASTEEL     EQ      617.70  622.00  636.5  616.90  636.25   \n",
       "2010-01-05  TATASTEEL     EQ      633.75  638.55  654.8  638.55  647.60   \n",
       "2010-01-06  TATASTEEL     EQ      649.10  660.00  660.0  637.00  643.20   \n",
       "2010-01-07  TATASTEEL     EQ      642.05  644.90  652.8  640.10  647.20   \n",
       "2010-01-08  TATASTEEL     EQ      649.80  651.00  661.5  640.90  648.60   \n",
       "\n",
       "             Close    VWAP   Volume      Turnover  Trades  Deliverable Volume  \\\n",
       "Date                                                                            \n",
       "2010-01-04  633.75  628.71  5569757  3.501788e+14     NaN             1107657   \n",
       "2010-01-05  649.10  648.67  7801935  5.060916e+14     NaN             2824636   \n",
       "2010-01-06  642.05  645.32  7350435  4.743349e+14     NaN             2285424   \n",
       "2010-01-07  649.80  646.56  7635704  4.936949e+14     NaN             2342356   \n",
       "2010-01-08  648.45  650.67  8199586  5.335209e+14     NaN             2545487   \n",
       "\n",
       "            %Deliverble  \n",
       "Date                     \n",
       "2010-01-04       0.1989  \n",
       "2010-01-05       0.3620  \n",
       "2010-01-06       0.3109  \n",
       "2010-01-07       0.3068  \n",
       "2010-01-08       0.3104  "
      ]
     },
     "execution_count": 4,
     "metadata": {},
     "output_type": "execute_result"
    }
   ],
   "source": [
    "tsteel_data.head()"
   ]
  },
  {
   "cell_type": "code",
   "execution_count": 5,
   "metadata": {
    "scrolled": false
   },
   "outputs": [
    {
     "data": {
      "text/html": [
       "<div>\n",
       "<style scoped>\n",
       "    .dataframe tbody tr th:only-of-type {\n",
       "        vertical-align: middle;\n",
       "    }\n",
       "\n",
       "    .dataframe tbody tr th {\n",
       "        vertical-align: top;\n",
       "    }\n",
       "\n",
       "    .dataframe thead th {\n",
       "        text-align: right;\n",
       "    }\n",
       "</style>\n",
       "<table border=\"1\" class=\"dataframe\">\n",
       "  <thead>\n",
       "    <tr style=\"text-align: right;\">\n",
       "      <th></th>\n",
       "      <th>Prev Close</th>\n",
       "      <th>Open</th>\n",
       "      <th>High</th>\n",
       "      <th>Low</th>\n",
       "      <th>Last</th>\n",
       "      <th>Close</th>\n",
       "      <th>VWAP</th>\n",
       "      <th>Volume</th>\n",
       "      <th>Turnover</th>\n",
       "      <th>Deliverable Volume</th>\n",
       "      <th>%Deliverble</th>\n",
       "    </tr>\n",
       "    <tr>\n",
       "      <th>Date</th>\n",
       "      <th></th>\n",
       "      <th></th>\n",
       "      <th></th>\n",
       "      <th></th>\n",
       "      <th></th>\n",
       "      <th></th>\n",
       "      <th></th>\n",
       "      <th></th>\n",
       "      <th></th>\n",
       "      <th></th>\n",
       "      <th></th>\n",
       "    </tr>\n",
       "  </thead>\n",
       "  <tbody>\n",
       "    <tr>\n",
       "      <td>2010-01-04</td>\n",
       "      <td>617.70</td>\n",
       "      <td>622.00</td>\n",
       "      <td>636.5</td>\n",
       "      <td>616.90</td>\n",
       "      <td>636.25</td>\n",
       "      <td>633.75</td>\n",
       "      <td>628.71</td>\n",
       "      <td>5569757</td>\n",
       "      <td>3.501788e+14</td>\n",
       "      <td>1107657</td>\n",
       "      <td>0.1989</td>\n",
       "    </tr>\n",
       "    <tr>\n",
       "      <td>2010-01-05</td>\n",
       "      <td>633.75</td>\n",
       "      <td>638.55</td>\n",
       "      <td>654.8</td>\n",
       "      <td>638.55</td>\n",
       "      <td>647.60</td>\n",
       "      <td>649.10</td>\n",
       "      <td>648.67</td>\n",
       "      <td>7801935</td>\n",
       "      <td>5.060916e+14</td>\n",
       "      <td>2824636</td>\n",
       "      <td>0.3620</td>\n",
       "    </tr>\n",
       "    <tr>\n",
       "      <td>2010-01-06</td>\n",
       "      <td>649.10</td>\n",
       "      <td>660.00</td>\n",
       "      <td>660.0</td>\n",
       "      <td>637.00</td>\n",
       "      <td>643.20</td>\n",
       "      <td>642.05</td>\n",
       "      <td>645.32</td>\n",
       "      <td>7350435</td>\n",
       "      <td>4.743349e+14</td>\n",
       "      <td>2285424</td>\n",
       "      <td>0.3109</td>\n",
       "    </tr>\n",
       "    <tr>\n",
       "      <td>2010-01-07</td>\n",
       "      <td>642.05</td>\n",
       "      <td>644.90</td>\n",
       "      <td>652.8</td>\n",
       "      <td>640.10</td>\n",
       "      <td>647.20</td>\n",
       "      <td>649.80</td>\n",
       "      <td>646.56</td>\n",
       "      <td>7635704</td>\n",
       "      <td>4.936949e+14</td>\n",
       "      <td>2342356</td>\n",
       "      <td>0.3068</td>\n",
       "    </tr>\n",
       "    <tr>\n",
       "      <td>2010-01-08</td>\n",
       "      <td>649.80</td>\n",
       "      <td>651.00</td>\n",
       "      <td>661.5</td>\n",
       "      <td>640.90</td>\n",
       "      <td>648.60</td>\n",
       "      <td>648.45</td>\n",
       "      <td>650.67</td>\n",
       "      <td>8199586</td>\n",
       "      <td>5.335209e+14</td>\n",
       "      <td>2545487</td>\n",
       "      <td>0.3104</td>\n",
       "    </tr>\n",
       "  </tbody>\n",
       "</table>\n",
       "</div>"
      ],
      "text/plain": [
       "            Prev Close    Open   High     Low    Last   Close    VWAP  \\\n",
       "Date                                                                    \n",
       "2010-01-04      617.70  622.00  636.5  616.90  636.25  633.75  628.71   \n",
       "2010-01-05      633.75  638.55  654.8  638.55  647.60  649.10  648.67   \n",
       "2010-01-06      649.10  660.00  660.0  637.00  643.20  642.05  645.32   \n",
       "2010-01-07      642.05  644.90  652.8  640.10  647.20  649.80  646.56   \n",
       "2010-01-08      649.80  651.00  661.5  640.90  648.60  648.45  650.67   \n",
       "\n",
       "             Volume      Turnover  Deliverable Volume  %Deliverble  \n",
       "Date                                                                \n",
       "2010-01-04  5569757  3.501788e+14             1107657       0.1989  \n",
       "2010-01-05  7801935  5.060916e+14             2824636       0.3620  \n",
       "2010-01-06  7350435  4.743349e+14             2285424       0.3109  \n",
       "2010-01-07  7635704  4.936949e+14             2342356       0.3068  \n",
       "2010-01-08  8199586  5.335209e+14             2545487       0.3104  "
      ]
     },
     "execution_count": 5,
     "metadata": {},
     "output_type": "execute_result"
    }
   ],
   "source": [
    "tsteel_data = tsteel_data.drop(columns = ['Symbol', 'Series','Trades'])\n",
    "tsteel_data.head()"
   ]
  },
  {
   "cell_type": "code",
   "execution_count": 6,
   "metadata": {},
   "outputs": [
    {
     "data": {
      "text/html": [
       "<div>\n",
       "<style scoped>\n",
       "    .dataframe tbody tr th:only-of-type {\n",
       "        vertical-align: middle;\n",
       "    }\n",
       "\n",
       "    .dataframe tbody tr th {\n",
       "        vertical-align: top;\n",
       "    }\n",
       "\n",
       "    .dataframe thead th {\n",
       "        text-align: right;\n",
       "    }\n",
       "</style>\n",
       "<table border=\"1\" class=\"dataframe\">\n",
       "  <thead>\n",
       "    <tr style=\"text-align: right;\">\n",
       "      <th></th>\n",
       "      <th>Prev Close</th>\n",
       "      <th>Open</th>\n",
       "      <th>High</th>\n",
       "      <th>Low</th>\n",
       "      <th>Last</th>\n",
       "      <th>Close</th>\n",
       "      <th>VWAP</th>\n",
       "      <th>Volume</th>\n",
       "      <th>Turnover</th>\n",
       "      <th>Deliverable Volume</th>\n",
       "      <th>%Deliverble</th>\n",
       "    </tr>\n",
       "    <tr>\n",
       "      <th>Date</th>\n",
       "      <th></th>\n",
       "      <th></th>\n",
       "      <th></th>\n",
       "      <th></th>\n",
       "      <th></th>\n",
       "      <th></th>\n",
       "      <th></th>\n",
       "      <th></th>\n",
       "      <th></th>\n",
       "      <th></th>\n",
       "      <th></th>\n",
       "    </tr>\n",
       "  </thead>\n",
       "  <tbody>\n",
       "    <tr>\n",
       "      <td>2021-06-24</td>\n",
       "      <td>1100.10</td>\n",
       "      <td>1105.00</td>\n",
       "      <td>1120.5</td>\n",
       "      <td>1098.45</td>\n",
       "      <td>1119.00</td>\n",
       "      <td>1113.15</td>\n",
       "      <td>1111.66</td>\n",
       "      <td>7239470</td>\n",
       "      <td>8.047857e+14</td>\n",
       "      <td>1667934</td>\n",
       "      <td>0.2304</td>\n",
       "    </tr>\n",
       "    <tr>\n",
       "      <td>2021-06-25</td>\n",
       "      <td>1113.15</td>\n",
       "      <td>1135.00</td>\n",
       "      <td>1170.0</td>\n",
       "      <td>1130.00</td>\n",
       "      <td>1165.50</td>\n",
       "      <td>1165.25</td>\n",
       "      <td>1157.46</td>\n",
       "      <td>18022770</td>\n",
       "      <td>2.086064e+15</td>\n",
       "      <td>4041495</td>\n",
       "      <td>0.2242</td>\n",
       "    </tr>\n",
       "    <tr>\n",
       "      <td>2021-06-28</td>\n",
       "      <td>1165.25</td>\n",
       "      <td>1174.00</td>\n",
       "      <td>1189.0</td>\n",
       "      <td>1163.00</td>\n",
       "      <td>1185.00</td>\n",
       "      <td>1184.00</td>\n",
       "      <td>1178.64</td>\n",
       "      <td>11660335</td>\n",
       "      <td>1.374332e+15</td>\n",
       "      <td>2073657</td>\n",
       "      <td>0.1778</td>\n",
       "    </tr>\n",
       "    <tr>\n",
       "      <td>2021-06-29</td>\n",
       "      <td>1184.00</td>\n",
       "      <td>1184.50</td>\n",
       "      <td>1192.0</td>\n",
       "      <td>1165.55</td>\n",
       "      <td>1174.25</td>\n",
       "      <td>1172.55</td>\n",
       "      <td>1176.74</td>\n",
       "      <td>7803759</td>\n",
       "      <td>9.183011e+14</td>\n",
       "      <td>1344220</td>\n",
       "      <td>0.1723</td>\n",
       "    </tr>\n",
       "    <tr>\n",
       "      <td>2021-06-30</td>\n",
       "      <td>1172.55</td>\n",
       "      <td>1181.05</td>\n",
       "      <td>1191.0</td>\n",
       "      <td>1162.80</td>\n",
       "      <td>1164.95</td>\n",
       "      <td>1166.60</td>\n",
       "      <td>1179.73</td>\n",
       "      <td>8043267</td>\n",
       "      <td>9.488863e+14</td>\n",
       "      <td>1365428</td>\n",
       "      <td>0.1698</td>\n",
       "    </tr>\n",
       "  </tbody>\n",
       "</table>\n",
       "</div>"
      ],
      "text/plain": [
       "            Prev Close     Open    High      Low     Last    Close     VWAP  \\\n",
       "Date                                                                          \n",
       "2021-06-24     1100.10  1105.00  1120.5  1098.45  1119.00  1113.15  1111.66   \n",
       "2021-06-25     1113.15  1135.00  1170.0  1130.00  1165.50  1165.25  1157.46   \n",
       "2021-06-28     1165.25  1174.00  1189.0  1163.00  1185.00  1184.00  1178.64   \n",
       "2021-06-29     1184.00  1184.50  1192.0  1165.55  1174.25  1172.55  1176.74   \n",
       "2021-06-30     1172.55  1181.05  1191.0  1162.80  1164.95  1166.60  1179.73   \n",
       "\n",
       "              Volume      Turnover  Deliverable Volume  %Deliverble  \n",
       "Date                                                                 \n",
       "2021-06-24   7239470  8.047857e+14             1667934       0.2304  \n",
       "2021-06-25  18022770  2.086064e+15             4041495       0.2242  \n",
       "2021-06-28  11660335  1.374332e+15             2073657       0.1778  \n",
       "2021-06-29   7803759  9.183011e+14             1344220       0.1723  \n",
       "2021-06-30   8043267  9.488863e+14             1365428       0.1698  "
      ]
     },
     "execution_count": 6,
     "metadata": {},
     "output_type": "execute_result"
    }
   ],
   "source": [
    "tsteel_data.tail()"
   ]
  },
  {
   "cell_type": "code",
   "execution_count": 7,
   "metadata": {},
   "outputs": [
    {
     "data": {
      "text/plain": [
       "(2855, 11)"
      ]
     },
     "execution_count": 7,
     "metadata": {},
     "output_type": "execute_result"
    }
   ],
   "source": [
    "tsteel_data.shape"
   ]
  },
  {
   "cell_type": "code",
   "execution_count": 8,
   "metadata": {},
   "outputs": [],
   "source": [
    "sc = MinMaxScaler(feature_range=(0,1))\n",
    "training_set = sc.fit_transform(tsteel_data)"
   ]
  },
  {
   "cell_type": "code",
   "execution_count": 9,
   "metadata": {},
   "outputs": [],
   "source": [
    "#Total records = 2855\n",
    "#Train set = first 2850 records\n",
    "#Test set = from 2851 to 2854 (row)\n",
    "X_train = []\n",
    "y_train = []\n",
    "for i in range(60, 2851):\n",
    "    X_train.append(training_set[i-60:i, :])\n",
    "    y_train.append(training_set[i, 5])\n",
    "    \n",
    "X_test = []\n",
    "y_test = []\n",
    "for i in range(2851, 2855):\n",
    "    X_test.append(training_set[i-60:i, :])\n",
    "    y_test.append(training_set[i, 5])"
   ]
  },
  {
   "cell_type": "code",
   "execution_count": 10,
   "metadata": {},
   "outputs": [
    {
     "name": "stdout",
     "output_type": "stream",
     "text": [
      "(2791, 60, 11)\n",
      "(2791, 1)\n"
     ]
    }
   ],
   "source": [
    "X_train, y_train = np.array(X_train), np.array(y_train)\n",
    "y_train = y_train.reshape(-1,1)\n",
    "print(X_train.shape)\n",
    "print(y_train.shape)"
   ]
  },
  {
   "cell_type": "code",
   "execution_count": 11,
   "metadata": {
    "scrolled": false
   },
   "outputs": [
    {
     "name": "stdout",
     "output_type": "stream",
     "text": [
      "(2791, 60, 11)\n"
     ]
    }
   ],
   "source": [
    "X_train = np.reshape(X_train,(X_train.shape[0], X_train.shape[1], 11))\n",
    "print(X_train.shape)"
   ]
  },
  {
   "cell_type": "code",
   "execution_count": 12,
   "metadata": {},
   "outputs": [],
   "source": [
    "regressor = Sequential()\n",
    "regressor.add(LSTM(units=50, return_sequences=True, input_shape=(X_train.shape[1],11)))\n",
    "regressor.add(Dropout(0.2))\n",
    "regressor.add(LSTM(units = 50, return_sequences=True))\n",
    "regressor.add(Dropout(0.2))\n",
    "regressor.add(LSTM(units=50, return_sequences=True))\n",
    "regressor.add(Dropout(0.2))\n",
    "regressor.add(LSTM(units=50))\n",
    "regressor.add(Dense(units=1))\n"
   ]
  },
  {
   "cell_type": "code",
   "execution_count": 26,
   "metadata": {
    "scrolled": false
   },
   "outputs": [
    {
     "name": "stdout",
     "output_type": "stream",
     "text": [
      "Epoch 1/100\n",
      "2791/2791 [==============================] - 73s 26ms/step - loss: 3.0404e-04\n",
      "Epoch 2/100\n",
      "2791/2791 [==============================] - 70s 25ms/step - loss: 2.9178e-04\n",
      "Epoch 3/100\n",
      "2791/2791 [==============================] - 71s 25ms/step - loss: 2.6944e-04\n",
      "Epoch 4/100\n",
      "2791/2791 [==============================] - 70s 25ms/step - loss: 2.6799e-04\n",
      "Epoch 5/100\n",
      "2791/2791 [==============================] - 69s 25ms/step - loss: 2.4603e-04\n",
      "Epoch 6/100\n",
      "2791/2791 [==============================] - 65s 23ms/step - loss: 2.7157e-04\n",
      "Epoch 7/100\n",
      "2791/2791 [==============================] - 66s 24ms/step - loss: 2.5416e-04\n",
      "Epoch 8/100\n",
      "2791/2791 [==============================] - 66s 24ms/step - loss: 2.2839e-04\n",
      "Epoch 9/100\n",
      "2791/2791 [==============================] - 68s 24ms/step - loss: 2.4417e-04\n",
      "Epoch 10/100\n",
      "2791/2791 [==============================] - 66s 24ms/step - loss: 2.4739e-04\n",
      "Epoch 11/100\n",
      "2791/2791 [==============================] - 68s 24ms/step - loss: 2.3085e-04\n",
      "Epoch 12/100\n",
      "2791/2791 [==============================] - ETA: 0s - loss: 2.6904e-0 - 68s 25ms/step - loss: 2.6871e-04\n",
      "Epoch 13/100\n",
      "2791/2791 [==============================] - 64s 23ms/step - loss: 2.2164e-04\n",
      "Epoch 14/100\n",
      "2791/2791 [==============================] - 64s 23ms/step - loss: 2.4920e-04\n",
      "Epoch 15/100\n",
      "2791/2791 [==============================] - 65s 23ms/step - loss: 2.2299e-04\n",
      "Epoch 16/100\n",
      "2791/2791 [==============================] - 63s 23ms/step - loss: 2.3796e-04\n",
      "Epoch 17/100\n",
      "2791/2791 [==============================] - 63s 23ms/step - loss: 1.9738e-04\n",
      "Epoch 18/100\n",
      "2791/2791 [==============================] - 63s 23ms/step - loss: 2.2810e-04\n",
      "Epoch 19/100\n",
      "2791/2791 [==============================] - 65s 23ms/step - loss: 2.3836e-04\n",
      "Epoch 20/100\n",
      "2791/2791 [==============================] - 63s 23ms/step - loss: 2.2063e-04 3s\n",
      "Epoch 21/100\n",
      "2791/2791 [==============================] - 64s 23ms/step - loss: 2.2958e-04\n",
      "Epoch 22/100\n",
      "2791/2791 [==============================] - 64s 23ms/step - loss: 2.0488e-04\n",
      "Epoch 23/100\n",
      "2791/2791 [==============================] - 64s 23ms/step - loss: 2.1644e-04\n",
      "Epoch 24/100\n",
      "2791/2791 [==============================] - 63s 22ms/step - loss: 2.1658e-04\n",
      "Epoch 25/100\n",
      "2791/2791 [==============================] - 67s 24ms/step - loss: 2.0902e-04\n",
      "Epoch 26/100\n",
      "2791/2791 [==============================] - 63s 22ms/step - loss: 2.0592e-04\n",
      "Epoch 27/100\n",
      "2791/2791 [==============================] - 62s 22ms/step - loss: 2.1865e-04\n",
      "Epoch 28/100\n",
      "2791/2791 [==============================] - 62s 22ms/step - loss: 2.0327e-04\n",
      "Epoch 29/100\n",
      "2791/2791 [==============================] - 62s 22ms/step - loss: 2.1589e-04\n",
      "Epoch 30/100\n",
      "2791/2791 [==============================] - 63s 22ms/step - loss: 1.9761e-04\n",
      "Epoch 31/100\n",
      "2791/2791 [==============================] - 63s 23ms/step - loss: 2.1820e-04\n",
      "Epoch 32/100\n",
      "2791/2791 [==============================] - 63s 23ms/step - loss: 2.1521e-04\n",
      "Epoch 33/100\n",
      "2791/2791 [==============================] - 63s 22ms/step - loss: 2.1301e-04\n",
      "Epoch 34/100\n",
      "2791/2791 [==============================] - 63s 22ms/step - loss: 1.9714e-04\n",
      "Epoch 35/100\n",
      "2791/2791 [==============================] - 63s 23ms/step - loss: 1.9805e-04\n",
      "Epoch 36/100\n",
      "2791/2791 [==============================] - 63s 23ms/step - loss: 2.0458e-04\n",
      "Epoch 37/100\n",
      "2791/2791 [==============================] - 63s 23ms/step - loss: 2.0172e-04\n",
      "Epoch 38/100\n",
      "2791/2791 [==============================] - 63s 22ms/step - loss: 1.8991e-04\n",
      "Epoch 39/100\n",
      "2791/2791 [==============================] - 63s 22ms/step - loss: 1.8407e-04 3\n",
      "Epoch 40/100\n",
      "2791/2791 [==============================] - 63s 22ms/step - loss: 1.9144e-04\n",
      "Epoch 41/100\n",
      "2791/2791 [==============================] - 63s 23ms/step - loss: 1.9204e-04\n",
      "Epoch 42/100\n",
      "2791/2791 [==============================] - 63s 23ms/step - loss: 1.7926e-04\n",
      "Epoch 43/100\n",
      "2791/2791 [==============================] - 63s 22ms/step - loss: 1.9755e-04\n",
      "Epoch 44/100\n",
      "2791/2791 [==============================] - 62s 22ms/step - loss: 1.9002e-04\n",
      "Epoch 45/100\n",
      "2791/2791 [==============================] - 63s 23ms/step - loss: 1.8990e-04\n",
      "Epoch 46/100\n",
      "2791/2791 [==============================] - 63s 22ms/step - loss: 1.8667e-04\n",
      "Epoch 47/100\n",
      "2791/2791 [==============================] - 62s 22ms/step - loss: 2.1016e-04\n",
      "Epoch 48/100\n",
      "2791/2791 [==============================] - 63s 22ms/step - loss: 1.8291e-04\n",
      "Epoch 49/100\n",
      "2791/2791 [==============================] - 62s 22ms/step - loss: 1.8556e-04\n",
      "Epoch 50/100\n",
      "2791/2791 [==============================] - 63s 22ms/step - loss: 1.7331e-04\n",
      "Epoch 51/100\n",
      "2791/2791 [==============================] - 62s 22ms/step - loss: 2.0157e-04\n",
      "Epoch 52/100\n",
      "2791/2791 [==============================] - 62s 22ms/step - loss: 2.0711e-04\n",
      "Epoch 53/100\n",
      "2791/2791 [==============================] - 62s 22ms/step - loss: 1.9079e-04\n",
      "Epoch 54/100\n",
      "2791/2791 [==============================] - 62s 22ms/step - loss: 1.8407e-04\n",
      "Epoch 55/100\n",
      "2791/2791 [==============================] - 62s 22ms/step - loss: 1.8952e-04\n",
      "Epoch 56/100\n",
      "2791/2791 [==============================] - 62s 22ms/step - loss: 1.9232e-04\n",
      "Epoch 57/100\n",
      "2791/2791 [==============================] - 63s 22ms/step - loss: 2.1022e-04\n",
      "Epoch 58/100\n",
      "2791/2791 [==============================] - 63s 22ms/step - loss: 1.8340e-04\n",
      "Epoch 59/100\n",
      "2791/2791 [==============================] - 63s 22ms/step - loss: 1.8469e-04\n",
      "Epoch 60/100\n",
      "2791/2791 [==============================] - 62s 22ms/step - loss: 2.1024e-04\n",
      "Epoch 61/100\n",
      "2791/2791 [==============================] - 62s 22ms/step - loss: 1.8382e-04\n",
      "Epoch 62/100\n",
      "2791/2791 [==============================] - 62s 22ms/step - loss: 1.8045e-04\n",
      "Epoch 63/100\n",
      "2791/2791 [==============================] - 62s 22ms/step - loss: 1.7527e-04\n",
      "Epoch 64/100\n",
      "2791/2791 [==============================] - 62s 22ms/step - loss: 1.8958e-04\n",
      "Epoch 65/100\n",
      "2791/2791 [==============================] - 62s 22ms/step - loss: 1.9095e-04\n",
      "Epoch 66/100\n",
      "2791/2791 [==============================] - 63s 22ms/step - loss: 1.8352e-04\n",
      "Epoch 67/100\n",
      "2791/2791 [==============================] - 63s 22ms/step - loss: 1.7962e-04\n",
      "Epoch 68/100\n",
      "2791/2791 [==============================] - 62s 22ms/step - loss: 1.7192e-04\n",
      "Epoch 69/100\n",
      "2791/2791 [==============================] - 62s 22ms/step - loss: 2.1535e-04\n",
      "Epoch 70/100\n",
      "2791/2791 [==============================] - 63s 22ms/step - loss: 1.8010e-04\n",
      "Epoch 71/100\n",
      "2791/2791 [==============================] - 62s 22ms/step - loss: 1.7593e-04\n",
      "Epoch 72/100\n",
      "2791/2791 [==============================] - 62s 22ms/step - loss: 1.6969e-04\n",
      "Epoch 73/100\n",
      "2791/2791 [==============================] - 62s 22ms/step - loss: 1.7239e-04\n",
      "Epoch 74/100\n",
      "2791/2791 [==============================] - 62s 22ms/step - loss: 1.9595e-04\n",
      "Epoch 75/100\n",
      "2791/2791 [==============================] - 63s 23ms/step - loss: 1.8535e-04\n",
      "Epoch 76/100\n",
      "2791/2791 [==============================] - 74s 27ms/step - loss: 1.8209e-04\n",
      "Epoch 77/100\n",
      "2791/2791 [==============================] - 67s 24ms/step - loss: 1.7783e-04\n",
      "Epoch 78/100\n",
      "2791/2791 [==============================] - 65s 23ms/step - loss: 1.7836e-04\n",
      "Epoch 79/100\n",
      "2791/2791 [==============================] - 65s 23ms/step - loss: 1.7615e-04\n",
      "Epoch 80/100\n",
      "2791/2791 [==============================] - 65s 23ms/step - loss: 1.9345e-04\n",
      "Epoch 81/100\n",
      "2791/2791 [==============================] - 64s 23ms/step - loss: 1.8178e-04\n",
      "Epoch 82/100\n",
      "2791/2791 [==============================] - 65s 23ms/step - loss: 1.8069e-04\n",
      "Epoch 83/100\n",
      "2791/2791 [==============================] - 65s 23ms/step - loss: 1.8387e-04\n",
      "Epoch 84/100\n",
      "2791/2791 [==============================] - 64s 23ms/step - loss: 1.5826e-04\n",
      "Epoch 85/100\n",
      "2791/2791 [==============================] - 65s 23ms/step - loss: 1.7017e-04\n",
      "Epoch 86/100\n",
      "2791/2791 [==============================] - 64s 23ms/step - loss: 1.7702e-04\n",
      "Epoch 87/100\n",
      "2791/2791 [==============================] - 62s 22ms/step - loss: 1.7118e-04\n",
      "Epoch 88/100\n",
      "2791/2791 [==============================] - 62s 22ms/step - loss: 1.6840e-04\n",
      "Epoch 89/100\n",
      "2791/2791 [==============================] - 62s 22ms/step - loss: 1.7827e-04\n",
      "Epoch 90/100\n"
     ]
    },
    {
     "name": "stdout",
     "output_type": "stream",
     "text": [
      "2791/2791 [==============================] - 62s 22ms/step - loss: 1.8457e-04\n",
      "Epoch 91/100\n",
      "2791/2791 [==============================] - 62s 22ms/step - loss: 1.6409e-04\n",
      "Epoch 92/100\n",
      "2791/2791 [==============================] - 62s 22ms/step - loss: 1.6901e-04\n",
      "Epoch 93/100\n",
      "2791/2791 [==============================] - 62s 22ms/step - loss: 1.6560e-04\n",
      "Epoch 94/100\n",
      "2791/2791 [==============================] - 62s 22ms/step - loss: 1.7679e-04\n",
      "Epoch 95/100\n",
      "2791/2791 [==============================] - 62s 22ms/step - loss: 1.6627e-04\n",
      "Epoch 96/100\n",
      "2791/2791 [==============================] - 62s 22ms/step - loss: 1.7010e-04\n",
      "Epoch 97/100\n",
      "2791/2791 [==============================] - 62s 22ms/step - loss: 1.7372e-04\n",
      "Epoch 98/100\n",
      "2791/2791 [==============================] - 62s 22ms/step - loss: 1.5971e-04\n",
      "Epoch 99/100\n",
      "2791/2791 [==============================] - 62s 22ms/step - loss: 1.8267e-04\n",
      "Epoch 100/100\n",
      "2791/2791 [==============================] - 62s 22ms/step - loss: 1.7112e-04\n"
     ]
    },
    {
     "data": {
      "text/plain": [
       "<keras.callbacks.callbacks.History at 0x20cc74ac1c8>"
      ]
     },
     "execution_count": 26,
     "metadata": {},
     "output_type": "execute_result"
    }
   ],
   "source": [
    "from sklearn.metrics import r2_score\n",
    "regressor.compile(optimizer='adam',loss='mean_squared_error')\n",
    "regressor.fit(X_train, y_train, epochs=100, batch_size=8)"
   ]
  },
  {
   "cell_type": "code",
   "execution_count": 14,
   "metadata": {},
   "outputs": [],
   "source": [
    "X_test, y_test = np.array(X_test), np.array(y_test)\n",
    "y_test = np.reshape(y_test,(-1,1))"
   ]
  },
  {
   "cell_type": "code",
   "execution_count": 15,
   "metadata": {
    "scrolled": false
   },
   "outputs": [
    {
     "name": "stdout",
     "output_type": "stream",
     "text": [
      "(4, 60, 11)\n",
      "(4, 1)\n"
     ]
    }
   ],
   "source": [
    "print(X_test.shape)\n",
    "print(y_test.shape)"
   ]
  },
  {
   "cell_type": "code",
   "execution_count": 16,
   "metadata": {},
   "outputs": [
    {
     "name": "stdout",
     "output_type": "stream",
     "text": [
      "[[0.93371313]\n",
      " [0.9518177 ]\n",
      " [0.94076184]\n",
      " [0.93501666]]\n"
     ]
    }
   ],
   "source": [
    "print(y_test)"
   ]
  },
  {
   "cell_type": "code",
   "execution_count": 17,
   "metadata": {},
   "outputs": [
    {
     "name": "stdout",
     "output_type": "stream",
     "text": [
      "[1165.25 1184.   1172.55 1166.6 ]\n"
     ]
    }
   ],
   "source": [
    "zeromatrix = np.zeros(shape=(y_test.shape[0], 11))\n",
    "zeromatrix[: , 5] = y_test[:, 0]\n",
    "real_price = zeromatrix\n",
    "real_price = sc.inverse_transform(real_price)\n",
    "real_price = real_price[:, 5]\n",
    "print(real_price)"
   ]
  },
  {
   "cell_type": "code",
   "execution_count": 18,
   "metadata": {},
   "outputs": [
    {
     "name": "stdout",
     "output_type": "stream",
     "text": [
      "(4, 1)\n"
     ]
    }
   ],
   "source": [
    "predicted_price = regressor.predict(X_test)\n",
    "print(predicted_price.shape)"
   ]
  },
  {
   "cell_type": "code",
   "execution_count": 19,
   "metadata": {},
   "outputs": [
    {
     "name": "stdout",
     "output_type": "stream",
     "text": [
      "(4, 11)\n",
      "[[1.98250000e+02 1.97500000e+02 2.06000000e+02 1.95300000e+02\n",
      "  1.97200000e+02 1.10961490e+03 1.99600000e+02 1.61547000e+05\n",
      "  5.83172065e+12 2.41580000e+04 4.51000000e-02]\n",
      " [1.98250000e+02 1.97500000e+02 2.06000000e+02 1.95300000e+02\n",
      "  1.97200000e+02 1.13584378e+03 1.99600000e+02 1.61547000e+05\n",
      "  5.83172065e+12 2.41580000e+04 4.51000000e-02]\n",
      " [1.98250000e+02 1.97500000e+02 2.06000000e+02 1.95300000e+02\n",
      "  1.97200000e+02 1.14449357e+03 1.99600000e+02 1.61547000e+05\n",
      "  5.83172065e+12 2.41580000e+04 4.51000000e-02]\n",
      " [1.98250000e+02 1.97500000e+02 2.06000000e+02 1.95300000e+02\n",
      "  1.97200000e+02 1.14224804e+03 1.99600000e+02 1.61547000e+05\n",
      "  5.83172065e+12 2.41580000e+04 4.51000000e-02]]\n"
     ]
    }
   ],
   "source": [
    "zeromatrix = np.zeros(shape=(predicted_price.shape[0], 11))\n",
    "zeromatrix[: , 5] = predicted_price[:, 0]\n",
    "predicted_price = zeromatrix\n",
    "print(predicted_price.shape)\n",
    "predicted_price = sc.inverse_transform(predicted_price)\n",
    "print(predicted_price)\n",
    "prediction = predicted_price[:, 5]"
   ]
  },
  {
   "cell_type": "code",
   "execution_count": 20,
   "metadata": {},
   "outputs": [
    {
     "name": "stdout",
     "output_type": "stream",
     "text": [
      "[1109.61489616 1135.84378211 1144.49357363 1142.24803777]\n",
      "[1165.25 1184.   1172.55 1166.6 ]\n"
     ]
    }
   ],
   "source": [
    "print(prediction)\n",
    "print(real_price)"
   ]
  },
  {
   "cell_type": "code",
   "execution_count": 22,
   "metadata": {},
   "outputs": [
    {
     "data": {
      "image/png": "[encoded data removed]",
      "text/plain": [
       "<Figure size 432x288 with 1 Axes>"
      ]
     },
     "metadata": {
      "needs_background": "light"
     },
     "output_type": "display_data"
    }
   ],
   "source": [
    "plt.plot(prediction, color='red', label='Prediction')\n",
    "plt.plot(real_price, color='green', label='TATASTEEL')\n",
    "plt.legend()\n",
    "plt.show()"
   ]
  }
 ],
 "metadata": {
  "kernelspec": {
   "display_name": "Python 3",
   "language": "python",
   "name": "python3"
  },
  "language_info": {
   "codemirror_mode": {
    "name": "ipython",
    "version": 3
   },
   "file_extension": ".py",
   "mimetype": "text/x-python",
   "name": "python",
   "nbconvert_exporter": "python",
   "pygments_lexer": "ipython3",
   "version": "3.7.4"
  }
 },
 "nbformat": 4,
 "nbformat_minor": 2
}
